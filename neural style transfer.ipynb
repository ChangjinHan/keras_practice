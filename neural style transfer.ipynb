{
 "cells": [
  {
   "cell_type": "markdown",
   "metadata": {},
   "source": [
    "# 케라스에서 뉴럴 스타일 트랜스퍼 구현하기"
   ]
  },
  {
   "cell_type": "code",
   "execution_count": 1,
   "metadata": {},
   "outputs": [
    {
     "name": "stdout",
     "output_type": "stream",
     "text": [
      "WARNING:tensorflow:From /home/jayg996/miniconda3/envs/finance/lib/python3.6/site-packages/tensorflow/python/compat/v2_compat.py:96: disable_resource_variables (from tensorflow.python.ops.variable_scope) is deprecated and will be removed in a future version.\n",
      "Instructions for updating:\n",
      "non-resource variables are not supported in the long term\n"
     ]
    }
   ],
   "source": [
    "import os\n",
    "import tensorflow as tf\n",
    "\n",
    "os.environ[\"CUDA_DEVICE_ORDER\"]=\"PCI_BUS_ID\"   \n",
    "os.environ[\"CUDA_VISIBLE_DEVICES\"]=\"0\"\n",
    "tf.compat.v1.disable_v2_behavior()"
   ]
  },
  {
   "cell_type": "code",
   "execution_count": 2,
   "metadata": {},
   "outputs": [],
   "source": [
    "# 변수 초깃값 정의하기\n",
    "from keras.preprocessing.image import load_img, img_to_array, save_img\n",
    "\n",
    "target_image_path = './datasets/portrait.png' # 변환하려는 이미지 경로\n",
    "style_reference_image_path = './datasets/popova.jpg' # 스타일 이미지 경로\n",
    "\n",
    "width, height = load_img(target_image_path).size\n",
    "img_height = 400\n",
    "img_width = int(width * img_height / height)"
   ]
  },
  {
   "cell_type": "code",
   "execution_count": 3,
   "metadata": {},
   "outputs": [],
   "source": [
    "# 유틸리티 함수\n",
    "import numpy as np\n",
    "from keras.applications import vgg19\n",
    "\n",
    "def preprocess_image(image_path):\n",
    "    img = load_img(image_path, target_size=(img_height, img_width))\n",
    "    img = img_to_array(img)\n",
    "    img = np.expand_dims(img, axis=0)\n",
    "    img = vgg19.preprocess_input(img)\n",
    "    return img\n",
    "\n",
    "def deprocess_image(x):\n",
    "    x[:, :, 0] += 103.939\n",
    "    x[:, :, 1] += 116.779\n",
    "    x[:, :, 2] += 123.68 # ImageNet의 평균 픽셀 값을 더함. vgg19.preprocess_input 함수에서 일어나는 변환을 복원.\n",
    "    x = x[:, :, ::-1] # 이미지를 'BGR'에서 'RGB'로 변환. 이것도 vgg19.preprocess_input 함수에서 일어나는 변환을 복원하기 위함.\n",
    "    x = np.clip(x, 0, 255).astype('uint8')\n",
    "    return x"
   ]
  },
  {
   "cell_type": "code",
   "execution_count": 4,
   "metadata": {},
   "outputs": [
    {
     "name": "stdout",
     "output_type": "stream",
     "text": [
      "Downloading data from https://storage.googleapis.com/tensorflow/keras-applications/vgg19/vgg19_weights_tf_dim_ordering_tf_kernels_notop.h5\n",
      "80142336/80134624 [==============================] - 7s 0us/step\n",
      "모델 로드 완료.\n"
     ]
    }
   ],
   "source": [
    "# 사전 훈련된 VGG19 네트워크를 로딩하고 3개 이미지에 적용하기\n",
    "from keras import backend as K\n",
    "\n",
    "target_image = K.constant(preprocess_image(target_image_path))\n",
    "style_reference_image = K.constant(preprocess_image(style_reference_image_path))\n",
    "combination_image = K.placeholder((1, img_height, img_width, 3)) # 생성된 이미지를 담을 플레이스홀더\n",
    "\n",
    "input_tensor = K.concatenate([target_image, style_reference_image, combination_image], axis=0) # 3개의 이미지를 하나의 배치로 합침.\n",
    "\n",
    "model = vgg19.VGG19(input_tensor=input_tensor,\n",
    "                   weights='imagenet',\n",
    "                   include_top=False) # 세 이미지의 배치를 입력으로 받는 VGG 네트워크를 만듦. 이 모델은 사전 훈련된 ImageNet 가중치를 로드.\n",
    "print('모델 로드 완료.')"
   ]
  },
  {
   "cell_type": "code",
   "execution_count": 5,
   "metadata": {},
   "outputs": [],
   "source": [
    "# 콘텐츠 손실\n",
    "def content_loss(base, combination):\n",
    "    return K.sum(K.square(combination - base))"
   ]
  },
  {
   "cell_type": "code",
   "execution_count": 6,
   "metadata": {},
   "outputs": [],
   "source": [
    "# 스타일 손실\n",
    "def gram_matrix(x):\n",
    "    features = K.batch_flatten(K.permute_dimensions(x, (2,0,1)))\n",
    "    gram = K.dot(features, K.transpose(features))\n",
    "    return gram\n",
    "\n",
    "def style_loss(style, combination):\n",
    "    S = gram_matrix(style)\n",
    "    C = gram_matrix(combination)\n",
    "    channels = 3\n",
    "    size = img_height * img_width\n",
    "    return K.sum(K.square(S - C) / (4. * (channels ** 2) * (size ** 2)))"
   ]
  },
  {
   "cell_type": "code",
   "execution_count": 7,
   "metadata": {},
   "outputs": [],
   "source": [
    "# 총 변위 손실(variation loss)\n",
    "def total_variation_loss(x):\n",
    "    '''\n",
    "    생성된 이미지의 픽셀을 사용하여 계산. 생성된 이미지가 공간적인 연속성을 가지도록 도와주며 픽셀의 격자무늬가 과도하게 나타나는 것을 막아줌.\n",
    "    일종의 규제 항.\n",
    "    '''\n",
    "    a = K.square(\n",
    "        x[:, :img_height - 1, :img_width - 1, :]-\n",
    "        x[:, 1:, :img_width - 1, :])\n",
    "    b = K.square(\n",
    "        x[:, :img_height - 1, :img_width - 1, :]-\n",
    "        x[:, :img_height - 1, 1: , :])\n",
    "    return K.sum(K.pow(a+b, 1.25))"
   ]
  },
  {
   "cell_type": "code",
   "execution_count": 9,
   "metadata": {},
   "outputs": [],
   "source": [
    "# 최소화할 최종 손실 정의하기\n",
    "outputs_dict = dict([(layer.name, layer.output) for layer in model.layers]) # 층 이름과 활성화 텐서를 매핑한 딕셔너리\n",
    "\n",
    "content_layer = 'block5_conv2' # 콘텐츠 손실에 사용할 층\n",
    "style_layers = ['block1_conv1','block2_conv1','block3_conv1','block4_conv1','block5_conv1'] # 스타일 손실에 사용할 층\n",
    "total_variation_weight = 1e-4\n",
    "style_weight = 1.\n",
    "content_weight = 0.025 # 손실 항목의 가중치 평균에 사용할 가중치\n",
    "\n",
    "loss = K.variable(0.) # 모든 손실 요소를 더하여 하나의 스칼라 변수로 손실을 정의.\n",
    "layer_features = outputs_dict[content_layer]\n",
    "target_image_features = layer_features[0, :, :, :]\n",
    "combination_features = layer_features[2, :, :, :]\n",
    "loss = loss + content_weight * content_loss(target_image_features, combination_features)\n",
    "\n",
    "for layer_name in style_layers:\n",
    "    layer_features = outputs_dict[layer_name]\n",
    "    style_reference_features = layer_features[1,:,:,:]\n",
    "    combination_features = layer_features[2,:,:,:]\n",
    "    sl = style_loss(style_reference_features, combination_features)\n",
    "    loss = loss + (style_weight/len(style_layers)) * sl\n",
    "    \n",
    "loss = loss + total_variation_weight * total_variation_loss(combination_image)"
   ]
  },
  {
   "cell_type": "code",
   "execution_count": 10,
   "metadata": {},
   "outputs": [],
   "source": [
    "# 경사 하강법 단계 설정하기\n",
    "grads = K.gradients(loss, combination_image)[0] # 손실에 대한 생성된 이미지의 그래디언트를 구함.\n",
    "\n",
    "fetch_loss_and_grads = K.function([combination_image], [loss, grads])\n",
    "\n",
    "class Evaluator(object):\n",
    "    def __init__(self):\n",
    "        self.loss_value = None\n",
    "        self.grads_values = None\n",
    "        \n",
    "    def loss(self, x):\n",
    "        assert self.loss_value is None\n",
    "        x = x.reshape((1, img_height, img_width, 3))\n",
    "        outs = fetch_loss_and_grads([x])\n",
    "        loss_value = outs[0]\n",
    "        grad_values = outs[1].flatten().astype('float64')\n",
    "        self.loss_value = loss_value\n",
    "        self.grad_values = grad_values\n",
    "        return self.loss_value\n",
    "    \n",
    "    def grads(self, x):\n",
    "        assert self.loss_value is not None\n",
    "        grad_values = np.copy(self.grad_values)\n",
    "        self.loss_value = None\n",
    "        self.grad_values = None\n",
    "        return grad_values\n",
    "    \n",
    "evaluator = Evaluator()"
   ]
  },
  {
   "cell_type": "code",
   "execution_count": 11,
   "metadata": {},
   "outputs": [
    {
     "name": "stdout",
     "output_type": "stream",
     "text": [
      "반복 횟수: 0\n",
      "현재 손실 값: 8099096000.0\n",
      "저장 이미지: style_transfer_result_at_iteration_0.png\n",
      "0 번째 반복 완료: 7s\n",
      "반복 횟수: 1\n",
      "현재 손실 값: 3367371500.0\n",
      "저장 이미지: style_transfer_result_at_iteration_1.png\n",
      "1 번째 반복 완료: 3s\n",
      "반복 횟수: 2\n",
      "현재 손실 값: 2109817100.0\n",
      "저장 이미지: style_transfer_result_at_iteration_2.png\n",
      "2 번째 반복 완료: 3s\n",
      "반복 횟수: 3\n",
      "현재 손실 값: 1598989300.0\n",
      "저장 이미지: style_transfer_result_at_iteration_3.png\n",
      "3 번째 반복 완료: 3s\n",
      "반복 횟수: 4\n",
      "현재 손실 값: 1302961200.0\n",
      "저장 이미지: style_transfer_result_at_iteration_4.png\n",
      "4 번째 반복 완료: 3s\n",
      "반복 횟수: 5\n",
      "현재 손실 값: 1127634800.0\n",
      "저장 이미지: style_transfer_result_at_iteration_5.png\n",
      "5 번째 반복 완료: 3s\n",
      "반복 횟수: 6\n",
      "현재 손실 값: 1000282240.0\n",
      "저장 이미지: style_transfer_result_at_iteration_6.png\n",
      "6 번째 반복 완료: 4s\n",
      "반복 횟수: 7\n",
      "현재 손실 값: 911152500.0\n",
      "저장 이미지: style_transfer_result_at_iteration_7.png\n",
      "7 번째 반복 완료: 3s\n",
      "반복 횟수: 8\n",
      "현재 손실 값: 837610500.0\n",
      "저장 이미지: style_transfer_result_at_iteration_8.png\n",
      "8 번째 반복 완료: 3s\n",
      "반복 횟수: 9\n",
      "현재 손실 값: 784922300.0\n",
      "저장 이미지: style_transfer_result_at_iteration_9.png\n",
      "9 번째 반복 완료: 3s\n",
      "반복 횟수: 10\n",
      "현재 손실 값: 738927940.0\n",
      "저장 이미지: style_transfer_result_at_iteration_10.png\n",
      "10 번째 반복 완료: 3s\n",
      "반복 횟수: 11\n",
      "현재 손실 값: 699584700.0\n",
      "저장 이미지: style_transfer_result_at_iteration_11.png\n",
      "11 번째 반복 완료: 3s\n",
      "반복 횟수: 12\n",
      "현재 손실 값: 662222700.0\n",
      "저장 이미지: style_transfer_result_at_iteration_12.png\n",
      "12 번째 반복 완료: 4s\n",
      "반복 횟수: 13\n",
      "현재 손실 값: 628388900.0\n",
      "저장 이미지: style_transfer_result_at_iteration_13.png\n",
      "13 번째 반복 완료: 4s\n",
      "반복 횟수: 14\n",
      "현재 손실 값: 602898940.0\n",
      "저장 이미지: style_transfer_result_at_iteration_14.png\n",
      "14 번째 반복 완료: 3s\n",
      "반복 횟수: 15\n",
      "현재 손실 값: 577692200.0\n",
      "저장 이미지: style_transfer_result_at_iteration_15.png\n",
      "15 번째 반복 완료: 4s\n",
      "반복 횟수: 16\n",
      "현재 손실 값: 554754000.0\n",
      "저장 이미지: style_transfer_result_at_iteration_16.png\n",
      "16 번째 반복 완료: 3s\n",
      "반복 횟수: 17\n",
      "현재 손실 값: 535165440.0\n",
      "저장 이미지: style_transfer_result_at_iteration_17.png\n",
      "17 번째 반복 완료: 3s\n",
      "반복 횟수: 18\n",
      "현재 손실 값: 517750820.0\n",
      "저장 이미지: style_transfer_result_at_iteration_18.png\n",
      "18 번째 반복 완료: 4s\n",
      "반복 횟수: 19\n",
      "현재 손실 값: 497160830.0\n",
      "저장 이미지: style_transfer_result_at_iteration_19.png\n",
      "19 번째 반복 완료: 4s\n"
     ]
    }
   ],
   "source": [
    "# 스타일 트랜스퍼 반복 루프\n",
    "from scipy.optimize import fmin_l_bfgs_b\n",
    "import time\n",
    "\n",
    "result_prefix = 'style_transfer_result'\n",
    "iterations = 20\n",
    "\n",
    "x = preprocess_image(target_image_path) # 초깃값은 타깃 이미지\n",
    "x = x.flatten()\n",
    "for i in range(iterations):\n",
    "    print('반복 횟수:', i)\n",
    "    start_time = time.time()\n",
    "    x, min_val, info = fmin_l_bfgs_b(evaluator.loss,\n",
    "                                    x,\n",
    "                                    fprime=evaluator.grads,\n",
    "                                    maxfun=20)\n",
    "    print('현재 손실 값:', min_val)\n",
    "    img = x.copy().reshape((img_height, img_width, 3))\n",
    "    img = deprocess_image(img)\n",
    "    fname = result_prefix + '_at_iteration_%d.png' % i\n",
    "    save_img(fname, img)\n",
    "    print('저장 이미지:', fname)\n",
    "    end_time = time.time()\n",
    "    print('%d 번째 반복 완료: %ds' % (i, end_time - start_time))"
   ]
  },
  {
   "cell_type": "code",
   "execution_count": null,
   "metadata": {},
   "outputs": [],
   "source": []
  }
 ],
 "metadata": {
  "kernelspec": {
   "display_name": "finance",
   "language": "python",
   "name": "finance"
  },
  "language_info": {
   "codemirror_mode": {
    "name": "ipython",
    "version": 3
   },
   "file_extension": ".py",
   "mimetype": "text/x-python",
   "name": "python",
   "nbconvert_exporter": "python",
   "pygments_lexer": "ipython3",
   "version": "3.6.8"
  }
 },
 "nbformat": 4,
 "nbformat_minor": 2
}
