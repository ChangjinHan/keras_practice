{
 "cells": [
  {
   "cell_type": "markdown",
   "metadata": {},
   "source": [
    "# 영화 리뷰 분류 : binary classification"
   ]
  },
  {
   "cell_type": "code",
   "execution_count": 1,
   "metadata": {
    "ExecuteTime": {
     "end_time": "2020-08-07T07:39:38.425488Z",
     "start_time": "2020-08-07T07:39:31.141257Z"
    }
   },
   "outputs": [],
   "source": [
    "from keras.datasets import imdb"
   ]
  },
  {
   "cell_type": "code",
   "execution_count": 2,
   "metadata": {
    "ExecuteTime": {
     "end_time": "2020-08-07T07:39:43.347733Z",
     "start_time": "2020-08-07T07:39:38.428462Z"
    }
   },
   "outputs": [],
   "source": [
    "(train_data, train_labels), (test_data, test_labels) = imdb.load_data(num_words=10000)"
   ]
  },
  {
   "cell_type": "code",
   "execution_count": 3,
   "metadata": {
    "ExecuteTime": {
     "end_time": "2020-08-07T07:39:43.579116Z",
     "start_time": "2020-08-07T07:39:43.352779Z"
    }
   },
   "outputs": [
    {
     "data": {
      "text/plain": [
       "9999"
      ]
     },
     "execution_count": 3,
     "metadata": {},
     "output_type": "execute_result"
    }
   ],
   "source": [
    "# 가장 자주 등장하는 단어 1만개로 제한했으므로 최대 index=9999\n",
    "max([max(sequence) for sequence in train_data])"
   ]
  },
  {
   "cell_type": "code",
   "execution_count": 4,
   "metadata": {
    "ExecuteTime": {
     "end_time": "2020-08-07T07:39:44.072105Z",
     "start_time": "2020-08-07T07:39:43.581752Z"
    }
   },
   "outputs": [
    {
     "data": {
      "text/plain": [
       "\"?  this  film  was  just  brilliant  casting  location  scenery  story  direction  everyone's  really  suited  the  part  they  played  and  you  could  just  imagine  being  there  robert  ?  is  an  amazing  actor  and  now  the  same  being  director  ?  father  came  from  the  same  scottish  island  as  myself  so  i  loved  the  fact  there  was  a  real  connection  with  this  film  the  witty  remarks  throughout  the  film  were  great  it  was  just  brilliant  so  much  that  i  bought  the  film  as  soon  as  it  was  released  for  ?  and  would  recommend  it  to  everyone  to  watch  and  the  fly  fishing  was  amazing  really  cried  at  the  end  it  was  so  sad  and  you  know  what  they  say  if  you  cry  at  a  film  it  must  have  been  good  and  this  definitely  was  also  ?  to  the  two  little  boy's  that  played  the  ?  of  norman  and  paul  they  were  just  brilliant  children  are  often  left  out  of  the  ?  list  i  think  because  the  stars  that  play  them  all  grown  up  are  such  a  big  profile  for  the  whole  film  but  these  children  are  amazing  and  should  be  praised  for  what  they  have  done  don't  you  think  the  whole  story  was  so  lovely  because  it  was  true  and  was  someone's  life  after  all  that  was  shared  with  us  all\""
      ]
     },
     "execution_count": 4,
     "metadata": {},
     "output_type": "execute_result"
    }
   ],
   "source": [
    "# 리뷰 데이터를 원래 문장으로 변환\n",
    "word_index = imdb.get_word_index()\n",
    "reverse_word_index = dict([(value, key) for (key, value) in word_index.items()])\n",
    "decoded_review = '  '.join([reverse_word_index.get(i-3, '?') for i in train_data[0]])\n",
    "decoded_review"
   ]
  },
  {
   "cell_type": "code",
   "execution_count": 5,
   "metadata": {
    "ExecuteTime": {
     "end_time": "2020-08-07T07:39:44.078667Z",
     "start_time": "2020-08-07T07:39:44.074982Z"
    }
   },
   "outputs": [],
   "source": [
    "import numpy as np"
   ]
  },
  {
   "cell_type": "code",
   "execution_count": 6,
   "metadata": {
    "ExecuteTime": {
     "end_time": "2020-08-07T07:39:46.662792Z",
     "start_time": "2020-08-07T07:39:44.081575Z"
    }
   },
   "outputs": [],
   "source": [
    "# 정수 시퀀스를 이진 행렬로 인코딩하기\n",
    "def vectorize_sequences(sequences, dimension=10000):\n",
    "    results = np.zeros((len(sequences), dimension))\n",
    "    for i, sequence in enumerate(sequences):\n",
    "        results[i, sequence] = 1.\n",
    "    return results\n",
    "\n",
    "x_train = vectorize_sequences(train_data)\n",
    "x_test = vectorize_sequences(test_data)"
   ]
  },
  {
   "cell_type": "code",
   "execution_count": 7,
   "metadata": {
    "ExecuteTime": {
     "end_time": "2020-08-07T07:39:46.671281Z",
     "start_time": "2020-08-07T07:39:46.666223Z"
    }
   },
   "outputs": [],
   "source": [
    "# 리스트로 된 label을 numpy array(벡터) 로 변환\n",
    "y_train = np.asarray(train_labels).astype('float32')\n",
    "y_test = np.asarray(test_labels).astype('float32')"
   ]
  },
  {
   "cell_type": "code",
   "execution_count": 8,
   "metadata": {
    "ExecuteTime": {
     "end_time": "2020-08-07T07:39:46.744748Z",
     "start_time": "2020-08-07T07:39:46.674244Z"
    }
   },
   "outputs": [],
   "source": [
    "from keras import models\n",
    "from keras import layers"
   ]
  },
  {
   "cell_type": "code",
   "execution_count": 9,
   "metadata": {
    "ExecuteTime": {
     "end_time": "2020-08-07T07:39:49.642461Z",
     "start_time": "2020-08-07T07:39:46.750520Z"
    }
   },
   "outputs": [],
   "source": [
    "# 모델 정의하기\n",
    "model = models.Sequential()\n",
    "model.add(layers.Dense(16, activation='relu', input_shape=(10000,)))\n",
    "model.add(layers.Dense(16, activation='relu'))\n",
    "model.add(layers.Dense(1, activation='sigmoid'))"
   ]
  },
  {
   "cell_type": "code",
   "execution_count": 10,
   "metadata": {
    "ExecuteTime": {
     "end_time": "2020-08-07T07:39:49.677783Z",
     "start_time": "2020-08-07T07:39:49.646889Z"
    }
   },
   "outputs": [],
   "source": [
    "# 모델 컴파일하기\n",
    "model.compile(optimizer = 'rmsprop',\n",
    "                         loss = 'binary_crossentropy',\n",
    "                         metrics = ['accuracy'])"
   ]
  },
  {
   "cell_type": "code",
   "execution_count": 11,
   "metadata": {
    "ExecuteTime": {
     "end_time": "2020-08-07T07:39:49.752267Z",
     "start_time": "2020-08-07T07:39:49.680831Z"
    }
   },
   "outputs": [],
   "source": [
    "# 옵티마이저 설정하기\n",
    "from keras import optimizers\n",
    "\n",
    "model.compile(optimizer = optimizers.RMSprop(lr=0.001),\n",
    "                         loss = 'binary_crossentropy',\n",
    "                         metrics = ['accuracy'])"
   ]
  },
  {
   "cell_type": "code",
   "execution_count": 12,
   "metadata": {
    "ExecuteTime": {
     "end_time": "2020-08-07T07:39:49.836843Z",
     "start_time": "2020-08-07T07:39:49.755610Z"
    }
   },
   "outputs": [],
   "source": [
    "# 손실과 측정을 함수 객체로 지정하기\n",
    "from keras import losses\n",
    "from keras import metrics\n",
    "\n",
    "model.compile(optimizer = optimizers.RMSprop(lr=0.001),\n",
    "                         loss = losses.binary_crossentropy,\n",
    "                         metrics = [metrics.binary_accuracy])"
   ]
  },
  {
   "cell_type": "code",
   "execution_count": 13,
   "metadata": {
    "ExecuteTime": {
     "end_time": "2020-08-07T07:39:49.903839Z",
     "start_time": "2020-08-07T07:39:49.840130Z"
    }
   },
   "outputs": [],
   "source": [
    "# 검증 세트 준비하기\n",
    "x_val = x_train[:10000]\n",
    "partial_x_train = x_train[10000:]\n",
    "y_val = y_train[:10000]\n",
    "partial_y_train = y_train[10000:]"
   ]
  },
  {
   "cell_type": "code",
   "execution_count": 16,
   "metadata": {
    "ExecuteTime": {
     "end_time": "2020-08-07T07:43:29.186049Z",
     "start_time": "2020-08-07T07:42:34.862819Z"
    },
    "scrolled": true
   },
   "outputs": [
    {
     "name": "stdout",
     "output_type": "stream",
     "text": [
      "Epoch 1/20\n",
      "30/30 [==============================] - 2s 78ms/step - loss: 0.5286 - acc: 0.7610 - val_loss: 0.4001 - val_acc: 0.8553\n",
      "Epoch 2/20\n",
      "30/30 [==============================] - 2s 68ms/step - loss: 0.3086 - acc: 0.9004 - val_loss: 0.3119 - val_acc: 0.8832\n",
      "Epoch 3/20\n",
      "30/30 [==============================] - 2s 72ms/step - loss: 0.2202 - acc: 0.9301 - val_loss: 0.3134 - val_acc: 0.8721\n",
      "Epoch 4/20\n",
      "30/30 [==============================] - 3s 85ms/step - loss: 0.1731 - acc: 0.9435 - val_loss: 0.2837 - val_acc: 0.8862\n",
      "Epoch 5/20\n",
      "30/30 [==============================] - 2s 66ms/step - loss: 0.1398 - acc: 0.9579 - val_loss: 0.2850 - val_acc: 0.8876\n",
      "Epoch 6/20\n",
      "30/30 [==============================] - 3s 88ms/step - loss: 0.1140 - acc: 0.9661 - val_loss: 0.3236 - val_acc: 0.8783\n",
      "Epoch 7/20\n",
      "30/30 [==============================] - 2s 73ms/step - loss: 0.0945 - acc: 0.9729 - val_loss: 0.3179 - val_acc: 0.8811\n",
      "Epoch 8/20\n",
      "30/30 [==============================] - 3s 86ms/step - loss: 0.0806 - acc: 0.9787 - val_loss: 0.3409 - val_acc: 0.8792\n",
      "Epoch 9/20\n",
      "30/30 [==============================] - 2s 76ms/step - loss: 0.0644 - acc: 0.9832 - val_loss: 0.3595 - val_acc: 0.8794\n",
      "Epoch 10/20\n",
      "30/30 [==============================] - 2s 83ms/step - loss: 0.0535 - acc: 0.9871 - val_loss: 0.3952 - val_acc: 0.8744\n",
      "Epoch 11/20\n",
      "30/30 [==============================] - 3s 86ms/step - loss: 0.0431 - acc: 0.9901 - val_loss: 0.4337 - val_acc: 0.8710\n",
      "Epoch 12/20\n",
      "30/30 [==============================] - 3s 83ms/step - loss: 0.0371 - acc: 0.9907 - val_loss: 0.4347 - val_acc: 0.8752\n",
      "Epoch 13/20\n",
      "30/30 [==============================] - 4s 140ms/step - loss: 0.0250 - acc: 0.9962 - val_loss: 0.4637 - val_acc: 0.8722\n",
      "Epoch 14/20\n",
      "30/30 [==============================] - 2s 83ms/step - loss: 0.0228 - acc: 0.9959 - val_loss: 0.5058 - val_acc: 0.8705\n",
      "Epoch 15/20\n",
      "30/30 [==============================] - 2s 70ms/step - loss: 0.0202 - acc: 0.9956 - val_loss: 0.5292 - val_acc: 0.8705\n",
      "Epoch 16/20\n",
      "30/30 [==============================] - 2s 71ms/step - loss: 0.0119 - acc: 0.9992 - val_loss: 0.5579 - val_acc: 0.8689\n",
      "Epoch 17/20\n",
      "30/30 [==============================] - 2s 79ms/step - loss: 0.0138 - acc: 0.9972 - val_loss: 0.5907 - val_acc: 0.8684\n",
      "Epoch 18/20\n",
      "30/30 [==============================] - 2s 64ms/step - loss: 0.0058 - acc: 0.9999 - val_loss: 0.6166 - val_acc: 0.8673\n",
      "Epoch 19/20\n",
      "30/30 [==============================] - 2s 80ms/step - loss: 0.0078 - acc: 0.9987 - val_loss: 0.6576 - val_acc: 0.8676\n",
      "Epoch 20/20\n",
      "30/30 [==============================] - 2s 81ms/step - loss: 0.0034 - acc: 0.9999 - val_loss: 0.6996 - val_acc: 0.8673\n"
     ]
    }
   ],
   "source": [
    "# 모델 훈련하기\n",
    "model.compile(optimizer='rmsprop', loss='binary_crossentropy',metrics=['acc'])\n",
    "history = model.fit(partial_x_train, partial_y_train,\n",
    "                               epochs=20,\n",
    "                               batch_size = 512,\n",
    "                               validation_data=(x_val, y_val))"
   ]
  },
  {
   "cell_type": "code",
   "execution_count": 17,
   "metadata": {
    "ExecuteTime": {
     "end_time": "2020-08-07T07:45:08.382771Z",
     "start_time": "2020-08-07T07:45:08.374744Z"
    }
   },
   "outputs": [
    {
     "data": {
      "text/plain": [
       "dict_keys(['loss', 'acc', 'val_loss', 'val_acc'])"
      ]
     },
     "execution_count": 17,
     "metadata": {},
     "output_type": "execute_result"
    }
   ],
   "source": [
    "# 모델 훈련으로 생긴 history 객체 확인\n",
    "history_dict = history.history\n",
    "history_dict.keys()"
   ]
  },
  {
   "cell_type": "code",
   "execution_count": 22,
   "metadata": {
    "ExecuteTime": {
     "end_time": "2020-08-07T07:52:14.265525Z",
     "start_time": "2020-08-07T07:52:13.834282Z"
    }
   },
   "outputs": [
    {
     "data": {
      "image/png": "[encoded data removed]",
      "text/plain": [
       "<Figure size 432x288 with 1 Axes>"
      ]
     },
     "metadata": {
      "needs_background": "light"
     },
     "output_type": "display_data"
    }
   ],
   "source": [
    "# 훈련과 검증 손실 그리기\n",
    "import matplotlib.pyplot as plt\n",
    "%matplotlib inline\n",
    "\n",
    "history_dict = history.history\n",
    "loss = history_dict['loss']\n",
    "val_loss = history_dict['val_loss']\n",
    "\n",
    "epochs = range(1, len(loss)+1)\n",
    "\n",
    "plt.plot(epochs, loss, 'bo', label='Training loss')\n",
    "plt.plot(epochs, val_loss, 'b', label='Validation loss')\n",
    "plt.title('Training and validation loss')\n",
    "plt.xlabel('Epochs')\n",
    "plt.ylabel('Loss')\n",
    "plt.legend()\n",
    "plt.show()"
   ]
  },
  {
   "cell_type": "code",
   "execution_count": 23,
   "metadata": {
    "ExecuteTime": {
     "end_time": "2020-08-07T07:54:41.526997Z",
     "start_time": "2020-08-07T07:54:41.225517Z"
    }
   },
   "outputs": [
    {
     "data": {
      "image/png": "[encoded data removed]",
      "text/plain": [
       "<Figure size 432x288 with 1 Axes>"
      ]
     },
     "metadata": {
      "needs_background": "light"
     },
     "output_type": "display_data"
    }
   ],
   "source": [
    "# 훈련과 검증 정확도 그리기\n",
    "plt.clf() # 그래프 초기화\n",
    "acc = history_dict['acc']\n",
    "val_acc = history_dict['val_acc']\n",
    "\n",
    "plt.plot(epochs, acc, 'bo', label='Training acc')\n",
    "plt.plot(epochs, val_acc, 'b', label='Validation acc')\n",
    "plt.title('Training and validation accuracy')\n",
    "plt.xlabel('Epochs')\n",
    "plt.ylabel('Accuracy')\n",
    "plt.legend()\n",
    "plt.show()"
   ]
  },
  {
   "cell_type": "code",
   "execution_count": 24,
   "metadata": {
    "ExecuteTime": {
     "end_time": "2020-08-07T07:59:48.817614Z",
     "start_time": "2020-08-07T07:59:34.215013Z"
    }
   },
   "outputs": [
    {
     "name": "stdout",
     "output_type": "stream",
     "text": [
      "Epoch 1/4\n",
      "49/49 [==============================] - 1s 11ms/step - loss: 0.4714 - accuracy: 0.8020\n",
      "Epoch 2/4\n",
      "49/49 [==============================] - 1s 12ms/step - loss: 0.2640 - accuracy: 0.9087\n",
      "Epoch 3/4\n",
      "49/49 [==============================] - 1s 19ms/step - loss: 0.2013 - accuracy: 0.9306\n",
      "Epoch 4/4\n",
      "49/49 [==============================] - 1s 12ms/step - loss: 0.1657 - accuracy: 0.9425\n",
      "782/782 [==============================] - 2s 3ms/step - loss: 0.3411 - accuracy: 0.8674\n"
     ]
    }
   ],
   "source": [
    "# 모델을 처음부터 다시 훈련하기\n",
    "model = models.Sequential()\n",
    "model.add(layers.Dense(16, activation='relu', input_shape=(10000,)))\n",
    "model.add(layers.Dense(16, activation='relu'))\n",
    "model.add(layers.Dense(1, activation='sigmoid'))\n",
    "\n",
    "model.compile(optimizer='rmsprop', loss='binary_crossentropy', metrics=['accuracy'])\n",
    "model.fit(x_train, y_train, epochs=4, batch_size=512)\n",
    "results = model.evaluate(x_test, y_test)"
   ]
  },
  {
   "cell_type": "code",
   "execution_count": 25,
   "metadata": {
    "ExecuteTime": {
     "end_time": "2020-08-07T08:00:13.368246Z",
     "start_time": "2020-08-07T08:00:13.360886Z"
    }
   },
   "outputs": [
    {
     "data": {
      "text/plain": [
       "[0.3411113917827606, 0.86735999584198]"
      ]
     },
     "execution_count": 25,
     "metadata": {},
     "output_type": "execute_result"
    }
   ],
   "source": [
    "# 최종 결과\n",
    "results"
   ]
  },
  {
   "cell_type": "code",
   "execution_count": 26,
   "metadata": {
    "ExecuteTime": {
     "end_time": "2020-08-07T08:01:40.098779Z",
     "start_time": "2020-08-07T08:01:35.293335Z"
    }
   },
   "outputs": [
    {
     "data": {
      "text/plain": [
       "array([[0.10438329],\n",
       "       [0.9976199 ],\n",
       "       [0.3137897 ],\n",
       "       ...,\n",
       "       [0.06001615],\n",
       "       [0.02282405],\n",
       "       [0.3515138 ]], dtype=float32)"
      ]
     },
     "execution_count": 26,
     "metadata": {},
     "output_type": "execute_result"
    }
   ],
   "source": [
    "# 훈련된 모델로 새로운 데이터에 대해 예측\n",
    "model.predict(x_test)"
   ]
  }
 ],
 "metadata": {
  "hide_input": false,
  "kernelspec": {
   "display_name": "Python 3.6.8 64-bit ('python36': conda)",
   "language": "python",
   "name": "python36864bitpython36conda439b2f61f3f44a1b9a27ee1178cc7f68"
  },
  "language_info": {
   "codemirror_mode": {
    "name": "ipython",
    "version": 3
   },
   "file_extension": ".py",
   "mimetype": "text/x-python",
   "name": "python",
   "nbconvert_exporter": "python",
   "pygments_lexer": "ipython3",
   "version": "3.6.8"
  },
  "varInspector": {
   "cols": {
    "lenName": 16,
    "lenType": 16,
    "lenVar": 40
   },
   "kernels_config": {
    "python": {
     "delete_cmd_postfix": "",
     "delete_cmd_prefix": "del ",
     "library": "var_list.py",
     "varRefreshCmd": "print(var_dic_list())"
    },
    "r": {
     "delete_cmd_postfix": ") ",
     "delete_cmd_prefix": "rm(",
     "library": "var_list.r",
     "varRefreshCmd": "cat(var_dic_list()) "
    }
   },
   "types_to_exclude": [
    "module",
    "function",
    "builtin_function_or_method",
    "instance",
    "_Feature"
   ],
   "window_display": false
  }
 },
 "nbformat": 4,
 "nbformat_minor": 2
}
