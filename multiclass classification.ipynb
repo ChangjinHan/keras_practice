{
 "cells": [
  {
   "cell_type": "markdown",
   "metadata": {},
   "source": [
    "# 뉴스 기사 분류: multiclass classification"
   ]
  },
  {
   "cell_type": "code",
   "execution_count": 1,
   "metadata": {
    "ExecuteTime": {
     "end_time": "2020-08-07T14:32:49.877198Z",
     "start_time": "2020-08-07T14:32:38.299288Z"
    }
   },
   "outputs": [],
   "source": [
    "from keras.datasets import reuters"
   ]
  },
  {
   "cell_type": "code",
   "execution_count": 3,
   "metadata": {
    "ExecuteTime": {
     "end_time": "2020-08-07T14:33:32.318984Z",
     "start_time": "2020-08-07T14:33:15.441402Z"
    }
   },
   "outputs": [
    {
     "name": "stdout",
     "output_type": "stream",
     "text": [
      "Downloading data from https://storage.googleapis.com/tensorflow/tf-keras-datasets/reuters.npz\n",
      "2113536/2110848 [==============================] - 0s 0us/step\n"
     ]
    }
   ],
   "source": [
    "(train_data, train_labels), (test_data, test_labels) = reuters.load_data(num_words=10000)"
   ]
  },
  {
   "cell_type": "code",
   "execution_count": 7,
   "metadata": {
    "ExecuteTime": {
     "end_time": "2020-08-07T14:36:43.830262Z",
     "start_time": "2020-08-07T14:36:43.547401Z"
    }
   },
   "outputs": [
    {
     "name": "stdout",
     "output_type": "stream",
     "text": [
      "Downloading data from https://storage.googleapis.com/tensorflow/tf-keras-datasets/reuters_word_index.json\n",
      "557056/550378 [==============================] - 0s 0us/step\n"
     ]
    },
    {
     "data": {
      "text/plain": [
       "'? ? ? said as a result of its december acquisition of space co it expects earnings per share in 1987 of 1 15 to 1 30 dlrs per share up from 70 cts in 1986 the company said pretax net should rise to nine to 10 mln dlrs from six mln dlrs in 1986 and rental operation revenues to 19 to 22 mln dlrs from 12 5 mln dlrs it said cash flow per share this year should be 2 50 to three dlrs reuter 3'"
      ]
     },
     "execution_count": 7,
     "metadata": {},
     "output_type": "execute_result"
    }
   ],
   "source": [
    "# 로이터 데이터셋을 텍스트로 디코딩하기\n",
    "word_index = reuters.get_word_index()\n",
    "reverse_word_index = dict([(value, key) for (key, value) in word_index.items()])\n",
    "decoded_newswire = ' '.join([reverse_word_index.get(i-3, '?') for i in train_data[0]])\n",
    "decoded_newswire"
   ]
  },
  {
   "cell_type": "code",
   "execution_count": 9,
   "metadata": {
    "ExecuteTime": {
     "end_time": "2020-08-09T03:06:28.443771Z",
     "start_time": "2020-08-09T03:06:20.921131Z"
    }
   },
   "outputs": [],
   "source": [
    "# 데이터 인코딩하기\n",
    "import numpy as np\n",
    "\n",
    "def vectorize_sequences(sequences, dimension=10000):\n",
    "    results = np.zeros((len(sequences), dimension))\n",
    "    for i, sequence in enumerate(sequences):\n",
    "        results[i, sequence] = 1.\n",
    "    return results\n",
    "\n",
    "x_train = vectorize_sequences(train_data)\n",
    "x_test = vectorize_sequences(test_data)"
   ]
  },
  {
   "cell_type": "code",
   "execution_count": 14,
   "metadata": {
    "ExecuteTime": {
     "end_time": "2020-08-09T03:22:45.748427Z",
     "start_time": "2020-08-09T03:22:44.368269Z"
    }
   },
   "outputs": [],
   "source": [
    "# 레이블 원-핫 인코딩\n",
    "def to_one_hot(labels, dimension=46):\n",
    "    results = np.zeros((len(labels), dimension))\n",
    "    for i, label in enumerate(labels):\n",
    "        results[i, label] = 1.\n",
    "    return results\n",
    "\n",
    "one_hot_train_labels = to_one_hot(train_labels)\n",
    "one_hot_test_labels = to_one_hot(test_labels)"
   ]
  },
  {
   "cell_type": "code",
   "execution_count": 16,
   "metadata": {
    "ExecuteTime": {
     "end_time": "2020-08-09T03:34:34.220157Z",
     "start_time": "2020-08-09T03:34:32.969875Z"
    }
   },
   "outputs": [],
   "source": [
    "# 내장함수를 이용한 원-핫 인코딩\n",
    "from keras.utils.np_utils import to_categorical\n",
    "\n",
    "one_hot_train_labels = to_categorical(train_labels)\n",
    "one_hot_test_labels = to_categorical(test_labels)"
   ]
  },
  {
   "cell_type": "code",
   "execution_count": 18,
   "metadata": {
    "ExecuteTime": {
     "end_time": "2020-08-09T03:37:24.470229Z",
     "start_time": "2020-08-09T03:36:41.608128Z"
    }
   },
   "outputs": [],
   "source": [
    "# 모델 정의하기\n",
    "from keras import models\n",
    "from keras import layers\n",
    "\n",
    "model = models.Sequential()\n",
    "model.add(layers.Dense(64, activation = 'relu', input_shape=(10000,)))\n",
    "model.add(layers.Dense(64, activation = 'relu'))\n",
    "model.add(layers.Dense(46, activation = 'softmax'))"
   ]
  },
  {
   "cell_type": "code",
   "execution_count": 19,
   "metadata": {
    "ExecuteTime": {
     "end_time": "2020-08-09T03:39:32.117664Z",
     "start_time": "2020-08-09T03:39:31.570731Z"
    }
   },
   "outputs": [],
   "source": [
    "# 모델 컴파일하기\n",
    "model.compile(optimizer = 'rmsprop',\n",
    "                         loss = 'categorical_crossentropy',\n",
    "                         metrics = ['accuracy'])"
   ]
  },
  {
   "cell_type": "code",
   "execution_count": 20,
   "metadata": {
    "ExecuteTime": {
     "end_time": "2020-08-09T03:41:36.058814Z",
     "start_time": "2020-08-09T03:41:36.048489Z"
    }
   },
   "outputs": [],
   "source": [
    "# 검증 세트 준비하기\n",
    "x_val = x_train[:1000]\n",
    "partial_x_train = x_train[1000:]\n",
    "\n",
    "y_val = one_hot_train_labels[:1000]\n",
    "partial_y_train = one_hot_train_labels[1000:]"
   ]
  },
  {
   "cell_type": "code",
   "execution_count": 21,
   "metadata": {
    "ExecuteTime": {
     "end_time": "2020-08-09T03:43:14.065209Z",
     "start_time": "2020-08-09T03:42:25.861833Z"
    }
   },
   "outputs": [
    {
     "name": "stdout",
     "output_type": "stream",
     "text": [
      "Epoch 1/20\n",
      "16/16 [==============================] - 1s 72ms/step - loss: 2.5414 - accuracy: 0.5197 - val_loss: 1.6755 - val_accuracy: 0.6430\n",
      "Epoch 2/20\n",
      "16/16 [==============================] - 1s 35ms/step - loss: 1.3931 - accuracy: 0.7065 - val_loss: 1.2920 - val_accuracy: 0.7200\n",
      "Epoch 3/20\n",
      "16/16 [==============================] - 0s 26ms/step - loss: 1.0548 - accuracy: 0.7757 - val_loss: 1.1298 - val_accuracy: 0.7500\n",
      "Epoch 4/20\n",
      "16/16 [==============================] - 1s 34ms/step - loss: 0.8356 - accuracy: 0.8178 - val_loss: 1.0269 - val_accuracy: 0.7780\n",
      "Epoch 5/20\n",
      "16/16 [==============================] - 0s 20ms/step - loss: 0.6689 - accuracy: 0.8522 - val_loss: 0.9743 - val_accuracy: 0.7900\n",
      "Epoch 6/20\n",
      "16/16 [==============================] - 0s 20ms/step - loss: 0.5345 - accuracy: 0.8869 - val_loss: 0.9242 - val_accuracy: 0.8060\n",
      "Epoch 7/20\n",
      "16/16 [==============================] - 0s 25ms/step - loss: 0.4309 - accuracy: 0.9118 - val_loss: 0.9098 - val_accuracy: 0.8140\n",
      "Epoch 8/20\n",
      "16/16 [==============================] - 1s 34ms/step - loss: 0.3483 - accuracy: 0.9241 - val_loss: 0.8853 - val_accuracy: 0.8160\n",
      "Epoch 9/20\n",
      "16/16 [==============================] - 0s 24ms/step - loss: 0.2843 - accuracy: 0.9397 - val_loss: 0.9224 - val_accuracy: 0.8110\n",
      "Epoch 10/20\n",
      "16/16 [==============================] - 1s 33ms/step - loss: 0.2409 - accuracy: 0.9437 - val_loss: 0.9127 - val_accuracy: 0.8100\n",
      "Epoch 11/20\n",
      "16/16 [==============================] - 0s 24ms/step - loss: 0.2062 - accuracy: 0.9496 - val_loss: 0.9156 - val_accuracy: 0.8160\n",
      "Epoch 12/20\n",
      "16/16 [==============================] - 0s 25ms/step - loss: 0.1792 - accuracy: 0.9514 - val_loss: 0.9278 - val_accuracy: 0.8210\n",
      "Epoch 13/20\n",
      "16/16 [==============================] - 1s 33ms/step - loss: 0.1630 - accuracy: 0.9539 - val_loss: 0.9675 - val_accuracy: 0.8150\n",
      "Epoch 14/20\n",
      "16/16 [==============================] - 1s 34ms/step - loss: 0.1444 - accuracy: 0.9565 - val_loss: 0.9611 - val_accuracy: 0.8140\n",
      "Epoch 15/20\n",
      "16/16 [==============================] - 1s 35ms/step - loss: 0.1359 - accuracy: 0.9567 - val_loss: 0.9811 - val_accuracy: 0.8130\n",
      "Epoch 16/20\n",
      "16/16 [==============================] - 0s 26ms/step - loss: 0.1262 - accuracy: 0.9573 - val_loss: 1.0637 - val_accuracy: 0.7960\n",
      "Epoch 17/20\n",
      "16/16 [==============================] - 0s 17ms/step - loss: 0.1240 - accuracy: 0.9560 - val_loss: 1.0197 - val_accuracy: 0.8080\n",
      "Epoch 18/20\n",
      "16/16 [==============================] - 0s 22ms/step - loss: 0.1155 - accuracy: 0.9595 - val_loss: 1.0699 - val_accuracy: 0.8030\n",
      "Epoch 19/20\n",
      "16/16 [==============================] - 0s 25ms/step - loss: 0.1154 - accuracy: 0.9565 - val_loss: 1.0513 - val_accuracy: 0.8110\n",
      "Epoch 20/20\n",
      "16/16 [==============================] - 0s 22ms/step - loss: 0.1079 - accuracy: 0.9582 - val_loss: 1.1727 - val_accuracy: 0.7950\n"
     ]
    }
   ],
   "source": [
    "# 모델 훈련하기\n",
    "history = model.fit(partial_x_train, partial_y_train,\n",
    "                               epochs=20, batch_size=512, validation_data=(x_val, y_val))"
   ]
  },
  {
   "cell_type": "code",
   "execution_count": 23,
   "metadata": {
    "ExecuteTime": {
     "end_time": "2020-08-09T03:45:38.656181Z",
     "start_time": "2020-08-09T03:45:37.709676Z"
    }
   },
   "outputs": [
    {
     "data": {
      "image/png": "[encoded data removed]",
      "text/plain": [
       "<Figure size 432x288 with 1 Axes>"
      ]
     },
     "metadata": {
      "needs_background": "light"
     },
     "output_type": "display_data"
    }
   ],
   "source": [
    "# 훈련과 검증 손실 그리기\n",
    "import matplotlib.pyplot as plt\n",
    "%matplotlib inline\n",
    "\n",
    "loss = history.history['loss']\n",
    "val_loss = history.history['val_loss']\n",
    "\n",
    "epochs = range(1, len(loss)+1)\n",
    "\n",
    "plt.plot(epochs, loss, 'bo', label='Training loss')\n",
    "plt.plot(epochs, val_loss, 'b', label='Validation loss')\n",
    "plt.title('Training and validation loss')\n",
    "plt.xlabel('Epochs')\n",
    "plt.ylabel('Loss')\n",
    "plt.legend()\n",
    "\n",
    "plt.show()"
   ]
  },
  {
   "cell_type": "code",
   "execution_count": 28,
   "metadata": {
    "ExecuteTime": {
     "end_time": "2020-08-09T03:48:26.903732Z",
     "start_time": "2020-08-09T03:48:26.238582Z"
    }
   },
   "outputs": [
    {
     "data": {
      "image/png": "[encoded data removed]",
      "text/plain": [
       "<Figure size 432x288 with 1 Axes>"
      ]
     },
     "metadata": {
      "needs_background": "light"
     },
     "output_type": "display_data"
    }
   ],
   "source": [
    "# 훈련과 검증 정확도 그리기\n",
    "plt.clf()\n",
    "\n",
    "acc  = history.history['accuracy']\n",
    "val_acc = history.history['val_accuracy']\n",
    "\n",
    "plt.plot(epochs, acc, 'bo', label='Training acc')\n",
    "plt.plot(epochs, val_acc, 'b', label='Validation acc')\n",
    "plt.title('Training and validation accuracy')\n",
    "plt.xlabel('Epochs')\n",
    "plt.ylabel('Accuracy')\n",
    "plt.legend()\n",
    "\n",
    "plt.show()"
   ]
  },
  {
   "cell_type": "code",
   "execution_count": 29,
   "metadata": {
    "ExecuteTime": {
     "end_time": "2020-08-09T03:51:03.173192Z",
     "start_time": "2020-08-09T03:50:56.726221Z"
    }
   },
   "outputs": [
    {
     "name": "stdout",
     "output_type": "stream",
     "text": [
      "Epoch 1/9\n",
      "16/16 [==============================] - 1s 42ms/step - loss: 2.5077 - acc: 0.5438 - val_loss: 1.6574 - val_acc: 0.6370\n",
      "Epoch 2/9\n",
      "16/16 [==============================] - 0s 19ms/step - loss: 1.3577 - acc: 0.7073 - val_loss: 1.2792 - val_acc: 0.7320\n",
      "Epoch 3/9\n",
      "16/16 [==============================] - 0s 24ms/step - loss: 1.0099 - acc: 0.7804 - val_loss: 1.1329 - val_acc: 0.7570\n",
      "Epoch 4/9\n",
      "16/16 [==============================] - 0s 29ms/step - loss: 0.7947 - acc: 0.8326 - val_loss: 1.0157 - val_acc: 0.7870\n",
      "Epoch 5/9\n",
      "16/16 [==============================] - 0s 20ms/step - loss: 0.6352 - acc: 0.8677 - val_loss: 0.9711 - val_acc: 0.7940\n",
      "Epoch 6/9\n",
      "16/16 [==============================] - 0s 31ms/step - loss: 0.5073 - acc: 0.8945 - val_loss: 0.9380 - val_acc: 0.7990\n",
      "Epoch 7/9\n",
      "16/16 [==============================] - 0s 19ms/step - loss: 0.4078 - acc: 0.9176 - val_loss: 0.9145 - val_acc: 0.8120\n",
      "Epoch 8/9\n",
      "16/16 [==============================] - 0s 19ms/step - loss: 0.3333 - acc: 0.9285 - val_loss: 0.9442 - val_acc: 0.8030\n",
      "Epoch 9/9\n",
      "16/16 [==============================] - 0s 20ms/step - loss: 0.2780 - acc: 0.9360 - val_loss: 0.8986 - val_acc: 0.8190\n",
      "71/71 [==============================] - 1s 9ms/step - loss: 0.9856 - acc: 0.7890\n"
     ]
    }
   ],
   "source": [
    "# 모델을 처음부터 다시 훈련하기\n",
    "model = models.Sequential()\n",
    "model.add(layers.Dense(64, activation='relu', input_shape=(10000,)))\n",
    "model.add(layers.Dense(64, activation='relu'))\n",
    "model.add(layers.Dense(46, activation='softmax'))\n",
    "\n",
    "model.compile(optimizer='rmsprop', loss='categorical_crossentropy',metrics=['acc'])\n",
    "model.fit(partial_x_train, partial_y_train, epochs=9, batch_size=512, validation_data=(x_val, y_val))\n",
    "\n",
    "results = model.evaluate(x_test, one_hot_test_labels)"
   ]
  },
  {
   "cell_type": "code",
   "execution_count": 33,
   "metadata": {
    "ExecuteTime": {
     "end_time": "2020-08-09T03:54:06.333689Z",
     "start_time": "2020-08-09T03:54:06.327715Z"
    }
   },
   "outputs": [
    {
     "data": {
      "text/plain": [
       "0.18788958147818344"
      ]
     },
     "execution_count": 33,
     "metadata": {},
     "output_type": "execute_result"
    }
   ],
   "source": [
    "# 무작위로 분류했을 때 성능\n",
    "import copy\n",
    "test_labels_copy = copy.copy(test_labels)\n",
    "np.random.shuffle(test_labels_copy)\n",
    "hits_array = np.array(test_labels) == np.array(test_labels_copy)\n",
    "float(np.sum(hits_array)) / len(test_labels)"
   ]
  },
  {
   "cell_type": "code",
   "execution_count": 34,
   "metadata": {
    "ExecuteTime": {
     "end_time": "2020-08-09T03:54:30.502091Z",
     "start_time": "2020-08-09T03:54:30.018569Z"
    }
   },
   "outputs": [],
   "source": [
    "# 새로운 데이터에 대해 예측하기\n",
    "predictions = model.predict(x_test)"
   ]
  },
  {
   "cell_type": "code",
   "execution_count": 36,
   "metadata": {
    "ExecuteTime": {
     "end_time": "2020-08-09T03:55:02.067357Z",
     "start_time": "2020-08-09T03:55:02.058186Z"
    }
   },
   "outputs": [
    {
     "data": {
      "text/plain": [
       "3"
      ]
     },
     "execution_count": 36,
     "metadata": {},
     "output_type": "execute_result"
    }
   ],
   "source": [
    "# 가장 확률이 높은 클래스\n",
    "np.argmax(predictions[0])"
   ]
  },
  {
   "cell_type": "code",
   "execution_count": 37,
   "metadata": {
    "ExecuteTime": {
     "end_time": "2020-08-09T03:56:17.709148Z",
     "start_time": "2020-08-09T03:56:17.704131Z"
    }
   },
   "outputs": [],
   "source": [
    "# 레이블을 정수 텐서로 인코딩하기\n",
    "y_train = np.array(train_labels)\n",
    "y_test = np.array(test_labels)"
   ]
  },
  {
   "cell_type": "code",
   "execution_count": 38,
   "metadata": {
    "ExecuteTime": {
     "end_time": "2020-08-09T03:57:43.071986Z",
     "start_time": "2020-08-09T03:57:43.055597Z"
    }
   },
   "outputs": [],
   "source": [
    "# 정수 레이블 사용 시 sparse_categorical_crossentropy\n",
    "model.compile(optimizer='rmsprop', loss='sparse_categorical_crossentropy', metrics=['acc'])"
   ]
  },
  {
   "cell_type": "code",
   "execution_count": 39,
   "metadata": {
    "ExecuteTime": {
     "end_time": "2020-08-09T04:00:16.071437Z",
     "start_time": "2020-08-09T03:59:59.107780Z"
    }
   },
   "outputs": [
    {
     "name": "stdout",
     "output_type": "stream",
     "text": [
      "Epoch 1/20\n",
      "63/63 [==============================] - 1s 19ms/step - loss: 3.2778 - acc: 0.2063 - val_loss: 2.8192 - val_acc: 0.2590\n",
      "Epoch 2/20\n",
      "63/63 [==============================] - 1s 10ms/step - loss: 2.4605 - acc: 0.2839 - val_loss: 2.1138 - val_acc: 0.3080\n",
      "Epoch 3/20\n",
      "63/63 [==============================] - 1s 15ms/step - loss: 1.6681 - acc: 0.5802 - val_loss: 1.4812 - val_acc: 0.6490\n",
      "Epoch 4/20\n",
      "63/63 [==============================] - 1s 9ms/step - loss: 1.2303 - acc: 0.6961 - val_loss: 1.3131 - val_acc: 0.6920\n",
      "Epoch 5/20\n",
      "63/63 [==============================] - 1s 13ms/step - loss: 1.0545 - acc: 0.7415 - val_loss: 1.2713 - val_acc: 0.7030\n",
      "Epoch 6/20\n",
      "63/63 [==============================] - 1s 9ms/step - loss: 0.9439 - acc: 0.7731 - val_loss: 1.2772 - val_acc: 0.7100\n",
      "Epoch 7/20\n",
      "63/63 [==============================] - 1s 16ms/step - loss: 0.8574 - acc: 0.7927 - val_loss: 1.2442 - val_acc: 0.7170\n",
      "Epoch 8/20\n",
      "63/63 [==============================] - 1s 12ms/step - loss: 0.7843 - acc: 0.8067 - val_loss: 1.2654 - val_acc: 0.7120\n",
      "Epoch 9/20\n",
      "63/63 [==============================] - 1s 10ms/step - loss: 0.7259 - acc: 0.8231 - val_loss: 1.2795 - val_acc: 0.7180\n",
      "Epoch 10/20\n",
      "63/63 [==============================] - 1s 12ms/step - loss: 0.6730 - acc: 0.8335 - val_loss: 1.3125 - val_acc: 0.7220\n",
      "Epoch 11/20\n",
      "63/63 [==============================] - 1s 14ms/step - loss: 0.6299 - acc: 0.8415 - val_loss: 1.3190 - val_acc: 0.7230\n",
      "Epoch 12/20\n",
      "63/63 [==============================] - 0s 8ms/step - loss: 0.5916 - acc: 0.8482 - val_loss: 1.3774 - val_acc: 0.7240\n",
      "Epoch 13/20\n",
      "63/63 [==============================] - 1s 8ms/step - loss: 0.5585 - acc: 0.8517 - val_loss: 1.3969 - val_acc: 0.7250\n",
      "Epoch 14/20\n",
      "63/63 [==============================] - 1s 17ms/step - loss: 0.5272 - acc: 0.8594 - val_loss: 1.4385 - val_acc: 0.7220\n",
      "Epoch 15/20\n",
      "63/63 [==============================] - 1s 11ms/step - loss: 0.4994 - acc: 0.8632 - val_loss: 1.5111 - val_acc: 0.7210\n",
      "Epoch 16/20\n",
      "63/63 [==============================] - 1s 10ms/step - loss: 0.4751 - acc: 0.8732 - val_loss: 1.5289 - val_acc: 0.7220\n",
      "Epoch 17/20\n",
      "63/63 [==============================] - 1s 13ms/step - loss: 0.4561 - acc: 0.8780 - val_loss: 1.5726 - val_acc: 0.7240\n",
      "Epoch 18/20\n",
      "63/63 [==============================] - 1s 11ms/step - loss: 0.4348 - acc: 0.8820 - val_loss: 1.6223 - val_acc: 0.7180\n",
      "Epoch 19/20\n",
      "63/63 [==============================] - 0s 6ms/step - loss: 0.4187 - acc: 0.8870 - val_loss: 1.7013 - val_acc: 0.7140\n",
      "Epoch 20/20\n",
      "63/63 [==============================] - 1s 14ms/step - loss: 0.4000 - acc: 0.8903 - val_loss: 1.7609 - val_acc: 0.7190\n"
     ]
    },
    {
     "data": {
      "text/plain": [
       "<tensorflow.python.keras.callbacks.History at 0x7f978cc8beb8>"
      ]
     },
     "execution_count": 39,
     "metadata": {},
     "output_type": "execute_result"
    }
   ],
   "source": [
    "# 정보 병목이 있는 모델\n",
    "model = models.Sequential()\n",
    "model.add(layers.Dense(64, activation='relu', input_shape=(10000,)))\n",
    "model.add(layers.Dense(4, activation='relu'))\n",
    "model.add(layers.Dense(46, activation='softmax'))\n",
    "\n",
    "model.compile(optimizer='rmsprop', loss='categorical_crossentropy', metrics=['acc'])\n",
    "\n",
    "model.fit(partial_x_train, partial_y_train, epochs=20, batch_size=128, validation_data=(x_val, y_val))"
   ]
  },
  {
   "cell_type": "code",
   "execution_count": null,
   "metadata": {},
   "outputs": [],
   "source": []
  }
 ],
 "metadata": {
  "hide_input": false,
  "kernelspec": {
   "display_name": "Python 3.6.8 64-bit ('python36': conda)",
   "language": "python",
   "name": "python36864bitpython36conda439b2f61f3f44a1b9a27ee1178cc7f68"
  },
  "language_info": {
   "codemirror_mode": {
    "name": "ipython",
    "version": 3
   },
   "file_extension": ".py",
   "mimetype": "text/x-python",
   "name": "python",
   "nbconvert_exporter": "python",
   "pygments_lexer": "ipython3",
   "version": "3.6.8"
  },
  "varInspector": {
   "cols": {
    "lenName": 16,
    "lenType": 16,
    "lenVar": 40
   },
   "kernels_config": {
    "python": {
     "delete_cmd_postfix": "",
     "delete_cmd_prefix": "del ",
     "library": "var_list.py",
     "varRefreshCmd": "print(var_dic_list())"
    },
    "r": {
     "delete_cmd_postfix": ") ",
     "delete_cmd_prefix": "rm(",
     "library": "var_list.r",
     "varRefreshCmd": "cat(var_dic_list()) "
    }
   },
   "types_to_exclude": [
    "module",
    "function",
    "builtin_function_or_method",
    "instance",
    "_Feature"
   ],
   "window_display": false
  }
 },
 "nbformat": 4,
 "nbformat_minor": 2
}
