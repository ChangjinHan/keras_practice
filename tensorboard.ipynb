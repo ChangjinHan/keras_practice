{
 "cells": [
  {
   "cell_type": "markdown",
   "metadata": {},
   "source": [
    "# 텐서보드"
   ]
  },
  {
   "cell_type": "code",
   "execution_count": 1,
   "metadata": {},
   "outputs": [
    {
     "name": "stderr",
     "output_type": "stream",
     "text": [
      "<string>:6: VisibleDeprecationWarning: Creating an ndarray from ragged nested sequences (which is a list-or-tuple of lists-or-tuples-or ndarrays with different lengths or shapes) is deprecated. If you meant to do this, you must specify 'dtype=object' when creating the ndarray\n",
      "/home/jayg996/miniconda3/envs/finance/lib/python3.6/site-packages/tensorflow/python/keras/datasets/imdb.py:159: VisibleDeprecationWarning: Creating an ndarray from ragged nested sequences (which is a list-or-tuple of lists-or-tuples-or ndarrays with different lengths or shapes) is deprecated. If you meant to do this, you must specify 'dtype=object' when creating the ndarray\n",
      "  x_train, y_train = np.array(xs[:idx]), np.array(labels[:idx])\n",
      "/home/jayg996/miniconda3/envs/finance/lib/python3.6/site-packages/tensorflow/python/keras/datasets/imdb.py:160: VisibleDeprecationWarning: Creating an ndarray from ragged nested sequences (which is a list-or-tuple of lists-or-tuples-or ndarrays with different lengths or shapes) is deprecated. If you meant to do this, you must specify 'dtype=object' when creating the ndarray\n",
      "  x_test, y_test = np.array(xs[idx:]), np.array(labels[idx:])\n"
     ]
    },
    {
     "name": "stdout",
     "output_type": "stream",
     "text": [
      "Model: \"sequential\"\n",
      "_________________________________________________________________\n",
      "Layer (type)                 Output Shape              Param #   \n",
      "=================================================================\n",
      "embed (Embedding)            (None, 500, 128)          256000    \n",
      "_________________________________________________________________\n",
      "conv1d (Conv1D)              (None, 494, 32)           28704     \n",
      "_________________________________________________________________\n",
      "max_pooling1d (MaxPooling1D) (None, 98, 32)            0         \n",
      "_________________________________________________________________\n",
      "conv1d_1 (Conv1D)            (None, 92, 32)            7200      \n",
      "_________________________________________________________________\n",
      "global_max_pooling1d (Global (None, 32)                0         \n",
      "_________________________________________________________________\n",
      "dense (Dense)                (None, 1)                 33        \n",
      "=================================================================\n",
      "Total params: 291,937\n",
      "Trainable params: 291,937\n",
      "Non-trainable params: 0\n",
      "_________________________________________________________________\n"
     ]
    }
   ],
   "source": [
    "# 텐서보드를 사용한 텍스트 분류 모델\n",
    "import keras\n",
    "from keras import layers\n",
    "from keras.datasets import imdb\n",
    "from keras.preprocessing import sequence\n",
    "\n",
    "max_features = 2000 # 특성으로 사용할 단어의 수\n",
    "max_len = 500 # 사용할 텍스트의 길이(가장 빈번한 max_features개의 단어만 사용)\n",
    "\n",
    "(x_train, y_train), (x_test, y_test) = imdb.load_data(num_words=max_features)\n",
    "x_train = sequence.pad_sequences(x_train, maxlen=max_len)\n",
    "x_test = sequence.pad_sequences(x_test, maxlen=max_len)\n",
    "\n",
    "model = keras.models.Sequential()\n",
    "model.add(layers.Embedding(max_features, 128,\n",
    "                          input_length=max_len,\n",
    "                          name='embed'))\n",
    "model.add(layers.Conv1D(32, 7, activation='relu'))\n",
    "model.add(layers.MaxPooling1D(5))\n",
    "model.add(layers.Conv1D(32, 7, activation='relu'))\n",
    "model.add(layers.GlobalMaxPooling1D())\n",
    "model.add(layers.Dense(1))\n",
    "model.summary()\n",
    "model.compile(optimizer='rmsprop',\n",
    "             loss='binary_crossentropy',\n",
    "             metrics=['acc'])"
   ]
  },
  {
   "cell_type": "code",
   "execution_count": 3,
   "metadata": {},
   "outputs": [
    {
     "name": "stdout",
     "output_type": "stream",
     "text": [
      "Epoch 1/20\n",
      "  1/157 [..............................] - ETA: 0s - loss: 3.8552 - acc: 0.4297WARNING:tensorflow:From /home/jayg996/miniconda3/envs/finance/lib/python3.6/site-packages/tensorflow/python/ops/summary_ops_v2.py:1277: stop (from tensorflow.python.eager.profiler) is deprecated and will be removed after 2020-07-01.\n",
      "Instructions for updating:\n",
      "use `tf.profiler.experimental.stop` instead.\n",
      "157/157 [==============================] - 4s 23ms/step - loss: 0.6658 - acc: 0.6127 - val_loss: 0.4208 - val_acc: 0.8330\n",
      "Epoch 2/20\n",
      "157/157 [==============================] - 3s 21ms/step - loss: 0.4537 - acc: 0.8395 - val_loss: 0.4330 - val_acc: 0.8584\n",
      "Epoch 3/20\n",
      "157/157 [==============================] - 3s 21ms/step - loss: 0.3878 - acc: 0.8745 - val_loss: 0.4145 - val_acc: 0.8632\n",
      "Epoch 4/20\n",
      "157/157 [==============================] - 3s 22ms/step - loss: 0.3464 - acc: 0.8965 - val_loss: 0.4609 - val_acc: 0.8648\n",
      "Epoch 5/20\n",
      "157/157 [==============================] - 3s 22ms/step - loss: 0.3094 - acc: 0.9128 - val_loss: 0.4973 - val_acc: 0.8674\n",
      "Epoch 6/20\n",
      "157/157 [==============================] - 3s 21ms/step - loss: 0.2649 - acc: 0.9320 - val_loss: 0.5670 - val_acc: 0.8680\n",
      "Epoch 7/20\n",
      "157/157 [==============================] - 3s 22ms/step - loss: 0.2270 - acc: 0.9491 - val_loss: 0.6705 - val_acc: 0.8654\n",
      "Epoch 8/20\n",
      "157/157 [==============================] - 3s 21ms/step - loss: 0.1870 - acc: 0.9629 - val_loss: 0.7427 - val_acc: 0.8660\n",
      "Epoch 9/20\n",
      "157/157 [==============================] - 3s 20ms/step - loss: 0.1546 - acc: 0.9737 - val_loss: 0.7718 - val_acc: 0.8696\n",
      "Epoch 10/20\n",
      "157/157 [==============================] - 3s 21ms/step - loss: 0.1302 - acc: 0.9842 - val_loss: 0.8346 - val_acc: 0.8702\n",
      "Epoch 11/20\n",
      "157/157 [==============================] - 3s 22ms/step - loss: 0.1134 - acc: 0.9873 - val_loss: 0.9104 - val_acc: 0.8710\n",
      "Epoch 12/20\n",
      "157/157 [==============================] - 3s 22ms/step - loss: 0.1065 - acc: 0.9890 - val_loss: 0.9646 - val_acc: 0.8700\n",
      "Epoch 13/20\n",
      "157/157 [==============================] - 3s 22ms/step - loss: 0.1012 - acc: 0.9906 - val_loss: 1.0485 - val_acc: 0.8630\n",
      "Epoch 14/20\n",
      "157/157 [==============================] - 3s 22ms/step - loss: 0.0967 - acc: 0.9919 - val_loss: 1.6733 - val_acc: 0.8200\n",
      "Epoch 15/20\n",
      "157/157 [==============================] - 3s 22ms/step - loss: 0.0976 - acc: 0.9905 - val_loss: 1.0880 - val_acc: 0.8674\n",
      "Epoch 16/20\n",
      "157/157 [==============================] - 3s 22ms/step - loss: 0.0951 - acc: 0.9919 - val_loss: 1.1826 - val_acc: 0.8658\n",
      "Epoch 17/20\n",
      "157/157 [==============================] - 3s 22ms/step - loss: 0.0955 - acc: 0.9919 - val_loss: 1.1232 - val_acc: 0.8692\n",
      "Epoch 18/20\n",
      "157/157 [==============================] - 4s 22ms/step - loss: 0.0913 - acc: 0.9932 - val_loss: 1.3699 - val_acc: 0.8558\n",
      "Epoch 19/20\n",
      "157/157 [==============================] - 3s 22ms/step - loss: 0.0937 - acc: 0.9919 - val_loss: 1.1366 - val_acc: 0.8702\n",
      "Epoch 20/20\n",
      "157/157 [==============================] - 3s 21ms/step - loss: 0.0938 - acc: 0.9918 - val_loss: 1.2080 - val_acc: 0.8684\n"
     ]
    }
   ],
   "source": [
    "# 텐서보드 콜백과 함께 모델 훈련하기\n",
    "callbacks = [\n",
    "    keras.callbacks.TensorBoard(\n",
    "        log_dir = 'logs',\n",
    "        histogram_freq = 1, # 1epoch마다 활성화 출력의 히스토그램을 기록\n",
    "        embeddings_freq = 1, # 1epoch마다 임베딩 데이터를 기록\n",
    "    )\n",
    "]\n",
    "\n",
    "history = model.fit(x_train, y_train,\n",
    "                   epochs=20, batch_size=128,\n",
    "                   validation_split=0.2,\n",
    "                   callbacks=callbacks)"
   ]
  },
  {
   "cell_type": "code",
   "execution_count": 16,
   "metadata": {},
   "outputs": [
    {
     "name": "stdout",
     "output_type": "stream",
     "text": [
      "('Failed to import pydot. You must `pip install pydot` and install graphviz (https://graphviz.gitlab.io/download/), ', 'for `pydotprint` to work.')\n"
     ]
    }
   ],
   "source": [
    "from keras.utils import plot_model\n",
    "\n",
    "plot_model(model, to_file='model.png')"
   ]
  },
  {
   "cell_type": "code",
   "execution_count": null,
   "metadata": {},
   "outputs": [],
   "source": []
  }
 ],
 "metadata": {
  "kernelspec": {
   "display_name": "finance",
   "language": "python",
   "name": "finance"
  },
  "language_info": {
   "codemirror_mode": {
    "name": "ipython",
    "version": 3
   },
   "file_extension": ".py",
   "mimetype": "text/x-python",
   "name": "python",
   "nbconvert_exporter": "python",
   "pygments_lexer": "ipython3",
   "version": "3.6.8"
  }
 },
 "nbformat": 4,
 "nbformat_minor": 2
}
